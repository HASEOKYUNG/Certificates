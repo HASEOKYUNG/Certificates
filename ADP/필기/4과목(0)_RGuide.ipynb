{
 "cells": [
  {
   "cell_type": "markdown",
   "id": "c458f61c",
   "metadata": {},
   "source": [
    "# <font color=\"steelBlue\">R\n",
    "- `options(digits=자리수)`와 같이 기본 설정을 할 수 있다."
   ]
  },
  {
   "cell_type": "markdown",
   "id": "4029cdd4",
   "metadata": {},
   "source": [
    "### 자료구조\n",
    "- vector: 동질적이게 동일한 type의 데이터만 담을 수 있는 배열\n",
    "- factor: 범주형 데이터를 담은 vector\n",
    "  - 범주형 데이터의 고유값은 level이라 한다.\n",
    "- matrix: 차원을 가진 vector\n",
    "  - `t`(전치행렬), `solve`(역행렬), `%*%`(행렬곱) 등 행렬에만 적용하는 함수들이 있다.\n",
    "  - 다른 변수와 연산될 때 데이터크기가 맞지 않을 경우 Recycling Rule에 의해 원소들이 재활용되어 연산된다.\n",
    "- dataframe: list가 한 열을 이뤄 여러 열이 나열된 데이터집합\n",
    "  - `data.table`패키지의 data.table()은 특정 열을 index로 해 grouping이 빠르며 간결한 코딩으로 dataframe보다 유용하게 사용한다."
   ]
  },
  {
   "cell_type": "code",
   "execution_count": null,
   "id": "7406e46c",
   "metadata": {},
   "outputs": [],
   "source": [
    "# vector 생성1)직접 데이터 입력하기\n",
    "vec1 <- c(원소1, 원소2, ...)\n",
    "\n",
    "# vector 생성2)수열 이용하기\n",
    "vec2 <- 1:5    # = seq(1,5,by=1) = seq(1,5,length.out=5) = c(1,2,3,4,5)\n",
    "    \n",
    "# vector 생성3)반복 이용하기\n",
    "vec3 <- rep(1,3, time=2)  # = c(1,2,3,1,2,3)\n",
    "vec4 <- rep(1,3, each=2)  # = c(1,1,2,2,3,3)"
   ]
  },
  {
   "cell_type": "code",
   "execution_count": null,
   "id": "fb4587c9",
   "metadata": {},
   "outputs": [],
   "source": [
    "# matrix 생성1)matrix(데이터, n_row, n_col)로 선언하기\n",
    "mat <- matrix(1:8, 2, 4)\n",
    "\n",
    "# matrix 생성2)데이터를 선언한 후 dim(변수)로 행렬의 차원 지정하기\n",
    "data <- 1:8\n",
    "dim(data) <- c(2,4)"
   ]
  },
  {
   "cell_type": "code",
   "execution_count": null,
   "id": "d7065799",
   "metadata": {},
   "outputs": [],
   "source": [
    "# dataframe 생성1)data.frame(열1=데이터1, 열2=데이터2, ...)로 선언하기\n",
    "df <- data.frame('a'=1:4, 'b'=seq(8,5))\n",
    "\n",
    "# dataframe 생성2)기존의 dataframe을 rbind(df1,df2, ..), cbind(df1, df2, ...)로 병합하기\n",
    "#                 rbind는 pd.concat()과 cbind는 pd.concat(axis=1)과 같다.\n",
    "df_r <- data.frame('a'=seq(5,8), 'b'=4:1) \n",
    "df_c <- data.frame('c'=seq(10,50,by=10))\n",
    "df_8by2 <- rbind(df, df_r)    # df$a, df$b\n",
    "df_4by3 <- cbind(df, df_c)    # df$a, df$b, df$c\n",
    "\n",
    "# dataframe 생성3)기존의 dataframe 내 공통열로 merge(df1, df2, by=공통열)로 병합하기\n",
    "#                 merge는 pd.merge와 동일하다.\n",
    "df_m <- data.frame('a'=seq(1,4,by=2), 'k'=c(100,200))\n",
    "df_2by3 <- merge(df, df_m, by='a')  # df$a에는 1,3값만 df$b에는 8,6, df$k에는 100,200이 있게 된다."
   ]
  },
  {
   "cell_type": "code",
   "execution_count": null,
   "id": "9e5a3721",
   "metadata": {},
   "outputs": [],
   "source": [
    "# index명은 vector와 factor은 names(변수)로, matrix와 dataframe은 rownames(변수), colnames(변수)로 설정할 수 있다.\n",
    "names(VECTOR|FACTOR) <- c(이름1, 이름2, ...)\n",
    "\n",
    "rownames(MATRIX|DATAFRAME) <- c(행명1, 행명2, ...)\n",
    "colnames(MATRIX|DATAFRAME) <- c(열명1, 열명2, ...)"
   ]
  },
  {
   "cell_type": "markdown",
   "id": "dcd4d021",
   "metadata": {},
   "source": [
    "### 파일 읽기\n",
    "- `read.csv(\"파일이름.csv\"/\"URL.csv\", na.strings, header, stringsASFactor)`: csv 파일 읽기\n",
    "- `read.table(\"파일이름.txt\"/\"URL.txt\", na.strings, header, stringsASFactor)`: txt 파일 읽기"
   ]
  },
  {
   "cell_type": "markdown",
   "id": "e905ef1b",
   "metadata": {},
   "source": [
    "### Indexing&Slicing\n",
    "- index는 1부터 시작한다.\n",
    "- $-$을 붙여 해당 index만 선택하지 않을 수 있다.\n",
    "- 한 원소만 추출할 때 vector와 factor는 `[]`를 사용하고 list, matrix, dataframe은 `[[]]`을 사용한다."
   ]
  },
  {
   "cell_type": "code",
   "execution_count": null,
   "id": "001825f9",
   "metadata": {},
   "outputs": [],
   "source": [
    "# vector, factor indexing\n",
    "vec <- 1:4\n",
    "names(vec) <- c('가','나','다','라')\n",
    "vec[2]  # = vec['나'] = vec[c(2)] = vec[-c(1,3,4)] = 2\n",
    "\n",
    "# list, matrix, dataframe indexing\n",
    "df <- data.frame('a'=1:4, 'b'=seq(8,5))\n",
    "df[1] # = df[['a']] = df$a = df[c(1)] = df[[-b]] = 1:4"
   ]
  },
  {
   "cell_type": "markdown",
   "id": "1683aef1",
   "metadata": {},
   "source": [
    "### Conditional Extraction\n",
    "조건에 맞는 데이터를 추출하는 방법으로 주로 matrix, dataframe에 적용한다.\n",
    "- `변수[조건식]`: 변수 내 조건을 만족하는 행 출력\n",
    "- `subset(변수, select=±이름/컬럼명/c(컬럼명1, 컬럼명2 …), subset=조건식)`: 변수 내 조건을 만족하는 행의 select열 값 출력<br>\n",
    "   예시) df[df$컬럼=4], subset(df, select=컬럼, subset=컬럼>4)"
   ]
  },
  {
   "cell_type": "code",
   "execution_count": null,
   "id": "b93bdb07",
   "metadata": {},
   "outputs": [],
   "source": [
    "# 방법1) 변수[조건식]으로 추출한다. pandas에서와 유사하다.\n",
    "df <- data.frame('a'=1:4, 'b'=seq(8,5))\n",
    "df[df$a %% 2 == 0]  # 조건: a 내 짝수\n",
    "\n",
    "# 방법2)subset(변수, select=±이름/열명/c(열명1, 열명2, ...), subset=조건식)으로 추출한다.\n",
    "subset(df, select='a', subset=(a%%2==0)) # 조건: a 내 짝수"
   ]
  },
  {
   "cell_type": "markdown",
   "id": "c0da7cbc",
   "metadata": {},
   "source": [
    "### Operator\n",
    "- `%/%`(나눗셈 몫), `%%`(나눗셈 나머지)\n",
    "- 이외는 프로그래밍 언어와 무관히 동일한 연산자들이다."
   ]
  },
  {
   "cell_type": "markdown",
   "id": "97ad9d83",
   "metadata": {},
   "source": [
    "### Function\n",
    "- 기본 함수\n",
    "  - `rm`(변수삭제), `length`(원소수)\n",
    "  - `nchar`(문자길이), `paste('문자1', '문자2' … , sep='연결고리')`(문자 붙이기), <br>\n",
    "    `substr('문자', start=시작인덱스, stop=끝인덱스)`(문자 추출), `strsplit('문자', 구분자)`(문자 분리)\n",
    "- 통계 함수\n",
    "  - `summary`(통계요약)\n",
    "  - `sd`(분산), `stdev`(표준편차), `cor`(상관계수)  \n",
    "- 사용자 정의 함수<br>\n",
    "  \\> `function(매개변수1, 매개변수2 … ){지역변수1, 지역변수2 …}`<br>\n",
    "  ※ 지역변수로는 조건문, 반복문, 전역변수(ex|global <<$-$ 전역변수값)이 가능하다."
   ]
  },
  {
   "cell_type": "code",
   "execution_count": null,
   "id": "3b7bb712",
   "metadata": {},
   "outputs": [],
   "source": [
    "# 문자 추출 예시\n",
    "substr(c('종로3가', '종로5가'), 1,2)  # '종로','종로'"
   ]
  },
  {
   "cell_type": "markdown",
   "id": "4e3427c4",
   "metadata": {},
   "source": [
    "### Apply Function\n",
    "데이터에 함수를 적용하여 변환할 때 사용한다. **pd.Series|DataFrame.apply**와 유사하다.\n",
    "- R 기본제공\n",
    "  - `apply(MATRIX, 1(행)/2(열), 함수)`: 행렬의 특정 방향으로 함수를 적용한다.\n",
    "  - `lapply(변수, 함수)`: 변수의 모든 원소에 함수를 적용한 뒤 list로 반환한다.\n",
    "  - `sapply(변수, 함수)`: 변수의 모든 원소에 함수를 적용한 뒤 vector, matrix로 반환한다.\n",
    "  - dataframe 전체에 apply를 적용할 경우 dataframe 내 데이터가 동질적이어야 한다.\n",
    "  - 예시) apply(mtx, 1, sum)\n",
    "- plyr package\n",
    "  - `ddply(DATAFRAME, 열, 함수)`: dataframe$열에 함수를 적용한 뒤 dataframe으로 반환한다.\n",
    "- Reshape package<br>\n",
    "  **pd.pivot_table**과 유사하게 데이터 재정렬, 함수 적용이 가능하다.\n",
    "  - **`melt(데이터, id=c(인덱스열1,인덱스열2 …), na.rm=T)`**<br>\n",
    "    :인덱스열들로 나열된 dataframe을 반환한다.\n",
    "  - **`cast(데이터, 인덱스열/인덱스열1+인덱스열2 … ~ 컬럼열/컬럼열1+컬럼열2 …, 함수)`**<br>\n",
    "    :인덱스열들의 컬렴열들에 함수를 적용한 dataframe을 반환한다."
   ]
  },
  {
   "cell_type": "code",
   "execution_count": null,
   "id": "0b565c0a",
   "metadata": {},
   "outputs": [],
   "source": []
  }
 ],
 "metadata": {
  "kernelspec": {
   "display_name": "Python 3 (ipykernel)",
   "language": "python",
   "name": "python3"
  },
  "language_info": {
   "codemirror_mode": {
    "name": "ipython",
    "version": 3
   },
   "file_extension": ".py",
   "mimetype": "text/x-python",
   "name": "python",
   "nbconvert_exporter": "python",
   "pygments_lexer": "ipython3",
   "version": "3.9.7"
  }
 },
 "nbformat": 4,
 "nbformat_minor": 5
}
