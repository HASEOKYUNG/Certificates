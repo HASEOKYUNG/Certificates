{
 "cells": [
  {
   "cell_type": "markdown",
   "id": "a9aa0dd6",
   "metadata": {},
   "source": [
    "### 시각화 구현\n",
    "- **시각화 플랫폼**\n",
    "  - 기존에는 데이터 분석, 마이닝의 결과 보고서로 활용됬으나 사용자가 다양한 관점에서 통찰을 얻을 수 있도록 지식 시각화 관점에서 지원한다.\n",
    "  - 예시) Tableau, R, Gephi(네트워크데이터 시각화), QliK View, Cognos Insight, Information Builders, PowerPivot, PowerView,<br>\n",
    "    $\\,~~~~~~~$ Visual Insight, Visual Intelligence, OBIEE, SAS Enterprise Business Intelligence, Tibco Spotfire Analytics \n",
    "- 시각화 라이브러리\n",
    "  - 자바스크립트, HTML5, jQuery를 기반으로 해 웹사이트에서 사용할 수 있다. \n",
    "  - 예시) D3.js, Tangle, Polymaps, Kartograph\n",
    "- 인포그래픽\n",
    "  - 제작된 템플릿을 기반으로 인포그래픽을 생성하는 도구이다.\n",
    "  - 예시) iCharts, Visualize Free, Visual.ly"
   ]
  },
  {
   "cell_type": "markdown",
   "id": "a86c42d8",
   "metadata": {},
   "source": [
    "### ggplot2 \n",
    "- 선 그래프<br>\n",
    "  \\> `ggplot(데이터, aes(x=변수_x, y=변수_y, colour=색으로_나타낼_변수)) + geom_line()`<br>\n",
    "  ※ `+ geom_hline(yintercept=y_길이)`로 가로선을 그릴 수 있다.\n",
    "- 스무스 그래프: 평균값 선 그래프<br>\n",
    "  \\> ggplot(데이터, aes(x=변수_x, y=변수_y, colour=색으로_나타낼_변수)) + `geom_smooth()` \n",
    "- 점 그래프<br>\n",
    "  $\\bullet$ 방법 1)<br>\n",
    "  \\> `ggplot(데이터, aes(x=변수_x, y=변수_y, colour=색으로_나타낼_변수)) + geom_point()`<br>\n",
    "  $\\bullet$ 방법 2)<br>\n",
    "  \\> `qplot(변수_x, 변수_y, colour=색으로_나타낼_변수, data=데이터)`\n",
    "  - `+ coord_catersian(ylim=y_범위)`, `+ scale_colour_contious(breaks=색_범위)`, `+ guides(colour='colourbar')`로 시각화 설정이 가능하다.\n",
    "  - 사용데이터를 변경할 경우 `기존_qplot변수 %+% 새로운데이터`로 다시 그래프를 그릴 수 있다.\n",
    "  $\\bullet$ 점에 색 할당하기<br>\n",
    "  \\> ggplot(데이터, aes(x=변수_x, y=변수_y)) + geom_point() + geom_point(aes(colour=factor(색으로_나타낼_변수)))<br>\n",
    "  $\\bullet$ 점에 모양 할당하기<br>\n",
    "  \\> ggplot(데이터, aes(x=변수_x, y=변수_y)) + geom_point() + geom_point(aes(shape=factor(모양으로_나타낼_변수)|모양세트_번호|\"모양\"))<br>\n",
    "  $\\bullet$ 점에 모두 다른 모양 할당하기<br>\n",
    "  \\> ggplot(데이터, aes(x=변수_x, y=변수_y)) + geom_point(aes(shape=factor(모양으로_나타낼_변수)|모양세트_번호|\"모양\")) + scale_shape_identity()<br>\n",
    "  $\\bullet$ 점 출력하지 않기<br>\n",
    "  \\> ggplot(데이터, aes(x=변수_x, y=변수_y)) + geom_point() + geom_point(aes(shape=NA))<br>  \n",
    "- 버블 차트\n",
    "  \\> ggplot(데이터, aes(변수_x, 변수_y)) + geom_point() + geom_point(aes(size=크기로_나타낼_변수))\n",
    "- 히스토그램<br>\n",
    "  $\\bullet$ 가로 출력<br>\n",
    "  \\> ggplot(데이터, aes(x=변수_x, fill=색으로_나타낼_변수)) + `geom_histogram()` + facet_grid(변수 \\~.)<br>\n",
    "  $\\bullet$ 세로 출력<br>\n",
    "  \\> ggplot(데이터, aes(x=변수_x, fill=색으로_나타낼_변수)) + `geom_histogram()` + facet_grid(.~ 변수)<br>\n",
    "  $\\bullet$ 색으로_나타낼_변수로 연속형 변수 사용하기<br>\n",
    "  \\> ggplot(데이터, aes(x=변수_x)) + geom_histogram() + geom_histogram(aes(fill= ..count..))\n",
    "- 막대그래프(파레토 그림)<br>\n",
    "  $\\bullet$ 기본<br>\n",
    "  \\> ggplot(데이터, aes(factor(변수_x))) + geom_bar()<br>\n",
    "  $\\bullet$ 막대 내 다른 범주형 변수(변수_k) 분포를 색과 크기로 나타내기<br>\n",
    "  \\> ggplot(데이터, aes(변수_x, fill=변수_k)) +  geom_bar() + geom_bar(aes(order=desc(변수_k))\n",
    "- geom_ Parameter\n",
    "  - alpha: 투명도\n",
    "  - size: 굵기/크기\n",
    "  - colour: 테두리색 지정이 불가능한 경우에 색을 지정하는 변수<br>\n",
    "    fill/colour: 테두리색 지정이 가능한 경우에 색/테두리색을 지정하는 변수\n",
    "  - limetype(lty): 선의 종류"
   ]
  },
  {
   "cell_type": "code",
   "execution_count": null,
   "id": "4a816cf2",
   "metadata": {},
   "outputs": [],
   "source": []
  }
 ],
 "metadata": {
  "kernelspec": {
   "display_name": "Python 3 (ipykernel)",
   "language": "python",
   "name": "python3"
  },
  "language_info": {
   "codemirror_mode": {
    "name": "ipython",
    "version": 3
   },
   "file_extension": ".py",
   "mimetype": "text/x-python",
   "name": "python",
   "nbconvert_exporter": "python",
   "pygments_lexer": "ipython3",
   "version": "3.9.7"
  }
 },
 "nbformat": 4,
 "nbformat_minor": 5
}
